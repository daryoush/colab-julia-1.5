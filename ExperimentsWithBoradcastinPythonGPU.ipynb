{
  "nbformat": 4,
  "nbformat_minor": 0,
  "metadata": {
    "colab": {
      "name": "Untitled3.ipynb",
      "provenance": [],
      "collapsed_sections": [],
      "authorship_tag": "ABX9TyNqCve9rdfkbTYKNMgi4LGu",
      "include_colab_link": true
    },
    "kernelspec": {
      "name": "python3",
      "display_name": "Python 3"
    },
    "accelerator": "GPU"
  },
  "cells": [
    {
      "cell_type": "markdown",
      "metadata": {
        "id": "view-in-github",
        "colab_type": "text"
      },
      "source": [
        "<a href=\"https://colab.research.google.com/github/daryoush/colab-julia-1.5/blob/master/ExperimentsWithBoradcastinPythonGPU.ipynb\" target=\"_parent\"><img src=\"https://colab.research.google.com/assets/colab-badge.svg\" alt=\"Open In Colab\"/></a>"
      ]
    },
    {
      "cell_type": "code",
      "metadata": {
        "id": "v4EMRiPTJVaA",
        "colab_type": "code",
        "colab": {}
      },
      "source": [
        "from numpy.random import uniform\n",
        "import numpy as np\n",
        "import torch\n",
        "import timeit\n",
        "#  https://towardsdatascience.com/speed-up-your-python-code-with-broadcasting-and-pytorch-64fbd31b359\n",
        "\n",
        "# for every point determine if it is in any of the boxes\n",
        "def in_boxes(boxes, points):\n",
        "  # (N, 4, 2) = boxes.shape\n",
        "  # (M, 2) = points.shape\n",
        "  w = np.zeros(points.shape[0])\n",
        "  for (i, point) in enumerate(points):\n",
        "   in_box = False\n",
        "   for box in boxes:\n",
        "     (A, B, C, D) = box\n",
        "     AP = (point - A)\n",
        "     AB = (B - A)\n",
        "     AD = (D - A)\n",
        "     cond0 = 0 < np.dot(AP, AB) < np.dot(AB, AB)\n",
        "     cond1 = 0 < np.dot(AP, AD) < np.dot(AD, AD)\n",
        "     in_box = in_box or (cond0 and cond1)   \n",
        "     if in_box : \n",
        "       break   # don't need to check any more rects.\n",
        "   if in_box:\n",
        "     w[i] = 1\n",
        "   else:\n",
        "     w[i] = 0\n",
        "  return w\n",
        "\n",
        "\n",
        "def in_boxes_bc(boxes, points):\n",
        "  # (N, 4, 2) = boxes.shape\n",
        "  # (M, 2) = points.shape\n",
        "  (A, B, C, D) = np.split(boxes, 4, axis=1)  # (N, 1, 2)\n",
        "  AM = (points[None, ...] - A)  # (N, M, 2)\n",
        "  AB = (B - A)  # (N, 1, 2)\n",
        "  AD = (D - A)  # (N, 1, 2) \n",
        "    \n",
        "  AM_AB = np.sum(AM * AB, axis=-1)  # (N, M)\n",
        "  AB_AB = np.sum(AB * AB, axis=-1)  # (N, 1)\n",
        "  AM_AD = np.sum(AM * AD, axis=-1)  # (N, M)\n",
        "  AD_AD = np.sum(AD * AD, axis=-1)  # (N, 1)\n",
        "    \n",
        "  cond0 = (0 < AM_AB) & (AM_AB < AB_AB)  # (N, M)\n",
        "  cond1 = (0 < AM_AD) & (AM_AD < AD_AD)  # (N, M)\n",
        "    \n",
        "  in_box = cond0 & cond1  # (N, M) = in_box.shape\n",
        "  w = np.any(in_box, axis=0)\n",
        "  return w\n",
        "\n",
        "\n",
        "\n",
        "\n"
      ],
      "execution_count": 1,
      "outputs": []
    },
    {
      "cell_type": "code",
      "metadata": {
        "id": "vlUL1nfNKCgp",
        "colab_type": "code",
        "colab": {
          "base_uri": "https://localhost:8080/",
          "height": 34
        },
        "outputId": "8b78d411-e9f7-4b25-c5c3-b3e1d8618ec9"
      },
      "source": [
        "\n",
        "npoints = 1000000\n",
        "points = uniform(0, 10, size=(npoints,2))   # npoints 2d values \n",
        "\n",
        "rects =  np.array([[[0,0], [1,0], [0,1], [1, 1]], [[1,1], [2,0], [3,1], [2,2]],[[5,5], [5,10], [10,5], [10,10]],[[2,2],[4,0],[6,2], [4,4]],[[6,6],[6,8],[10,8],[10,6]]])\n",
        "\n",
        "points.shape\n",
        "rects.shape\n",
        "\n"
      ],
      "execution_count": 10,
      "outputs": [
        {
          "output_type": "execute_result",
          "data": {
            "text/plain": [
              "(5, 4, 2)"
            ]
          },
          "metadata": {
            "tags": []
          },
          "execution_count": 10
        }
      ]
    },
    {
      "cell_type": "code",
      "metadata": {
        "id": "xfTIlRcjKsXZ",
        "colab_type": "code",
        "colab": {
          "base_uri": "https://localhost:8080/",
          "height": 34
        },
        "outputId": "5bfde082-4340-401d-f787-b66ae189ee8b"
      },
      "source": [
        "timeit.timeit(lambda : in_boxes(rects, points), number=2)\n"
      ],
      "execution_count": 14,
      "outputs": [
        {
          "output_type": "execute_result",
          "data": {
            "text/plain": [
              "75.07031807499999"
            ]
          },
          "metadata": {
            "tags": []
          },
          "execution_count": 14
        }
      ]
    },
    {
      "cell_type": "code",
      "metadata": {
        "id": "k2ycx75BKy1h",
        "colab_type": "code",
        "colab": {
          "base_uri": "https://localhost:8080/",
          "height": 34
        },
        "outputId": "dd92433a-e564-441a-fe7b-f96cf5c4d33c"
      },
      "source": [
        "timeit.timeit(lambda : in_boxes_bc(rects, points), number=100)\n"
      ],
      "execution_count": 19,
      "outputs": [
        {
          "output_type": "execute_result",
          "data": {
            "text/plain": [
              "29.64130264299996"
            ]
          },
          "metadata": {
            "tags": []
          },
          "execution_count": 19
        }
      ]
    },
    {
      "cell_type": "code",
      "metadata": {
        "id": "kR0mz5vfKzWQ",
        "colab_type": "code",
        "colab": {}
      },
      "source": [
        ""
      ],
      "execution_count": null,
      "outputs": []
    },
    {
      "cell_type": "code",
      "metadata": {
        "id": "CIvlYHd7J59Y",
        "colab_type": "code",
        "colab": {}
      },
      "source": [
        "def in_boxes_torch(boxes, points):\n",
        "  boxes = torch.DoubleTensor(boxes).cuda()\n",
        "  points = torch.DoubleTensor(points).cuda()\n",
        "    \n",
        "  dd = torch.chunk(boxes, 4, dim=1)\n",
        "  (A, B, C, D) = dd\n",
        "  AM = (points[None, ...] - A)\n",
        "  AB = (B - A)\n",
        "  AD = (D - A)\n",
        "  AM_AB = torch.sum(AM * AB, dim=-1)\n",
        "  AB_AB = torch.sum(AB * AB, dim=-1)\n",
        "  AM_AD = torch.sum(AM * AD, dim=-1)\n",
        "  AD_AD = torch.sum(AD * AD, dim=-1)\n",
        "  cond0 = (0 < AM_AB) & (AM_AB < AB_AB)\n",
        "  cond1 = (0 < AM_AD) & (AM_AD < AD_AD)\n",
        "    \n",
        "  in_box = cond0 & cond1\n",
        "  # PyTorch does not have anything corresponding to np.any()\n",
        "  w = (torch.sum(in_box, dim=0) > 0)\n",
        "  return w.cpu()\n"
      ],
      "execution_count": 16,
      "outputs": []
    },
    {
      "cell_type": "code",
      "metadata": {
        "id": "3Is2MflgJedU",
        "colab_type": "code",
        "colab": {
          "base_uri": "https://localhost:8080/",
          "height": 34
        },
        "outputId": "ac09d5f0-aaf8-4b7d-b350-9843f8673c4e"
      },
      "source": [
        "timeit.timeit(lambda : in_boxes_torch(rects, points), number=100)"
      ],
      "execution_count": 18,
      "outputs": [
        {
          "output_type": "execute_result",
          "data": {
            "text/plain": [
              "0.9152755900000216"
            ]
          },
          "metadata": {
            "tags": []
          },
          "execution_count": 18
        }
      ]
    },
    {
      "cell_type": "code",
      "metadata": {
        "id": "eoAb9sogJmiT",
        "colab_type": "code",
        "colab": {}
      },
      "source": [
        ""
      ],
      "execution_count": 18,
      "outputs": []
    },
    {
      "cell_type": "code",
      "metadata": {
        "id": "CWffGZdlJtOv",
        "colab_type": "code",
        "colab": {}
      },
      "source": [
        ""
      ],
      "execution_count": null,
      "outputs": []
    },
    {
      "cell_type": "code",
      "metadata": {
        "id": "Ujii-ClTJvTS",
        "colab_type": "code",
        "colab": {}
      },
      "source": [
        ""
      ],
      "execution_count": null,
      "outputs": []
    }
  ]
}