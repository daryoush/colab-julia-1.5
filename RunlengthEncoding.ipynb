{
  "nbformat": 4,
  "nbformat_minor": 0,
  "metadata": {
    "kernelspec": {
      "display_name": "Python 3",
      "language": "python",
      "name": "python3"
    },
    "language_info": {
      "codemirror_mode": {
        "name": "ipython",
        "version": 3
      },
      "file_extension": ".py",
      "mimetype": "text/x-python",
      "name": "python",
      "nbconvert_exporter": "python",
      "pygments_lexer": "ipython3",
      "version": "3.7.7"
    },
    "colab": {
      "name": "RunlengthEncoding.ipynb",
      "provenance": []
    }
  },
  "cells": [
    {
      "cell_type": "code",
      "metadata": {
        "id": "9HgyKEMVyxyZ"
      },
      "source": [
        "def decode(d, index=0) :\n",
        "    res=''\n",
        "    if index >= len(d) :\n",
        "        return (res, index )\n",
        "    if d[index] ==  '[' :\n",
        "        index = index + 1\n",
        "\n",
        "    for i in range(index, len(d)) :\n",
        "        c=d[i]\n",
        "        if c == ']' :\n",
        "            return (res, i+1)\n",
        "        if c.isdigit() :  #todo:  Add multi digit number\n",
        "            content, end = decode(d, i+1)\n",
        "            after, finali  = decode(d, end)\n",
        "            return (''.join([res, *list(content* int(c)),after] ), finali)\n",
        "        res = res + c\n",
        "    return (res, i)"
      ],
      "execution_count": null,
      "outputs": []
    },
    {
      "cell_type": "code",
      "metadata": {
        "id": "1HoqTfpfyxyj",
        "outputId": "5f45bf40-0b09-432e-88b0-17bed2a47060"
      },
      "source": [
        "decode(\"2[ax]b\")"
      ],
      "execution_count": null,
      "outputs": [
        {
          "output_type": "execute_result",
          "data": {
            "text/plain": [
              "('axaxb', 5)"
            ]
          },
          "metadata": {
            "tags": []
          },
          "execution_count": 23
        }
      ]
    },
    {
      "cell_type": "code",
      "metadata": {
        "id": "kDBPJvGlyxyp",
        "outputId": "13f5d210-70c3-4661-95fa-f18e15e0add7"
      },
      "source": [
        "decode(\"2[a1[d]a]b\")"
      ],
      "execution_count": null,
      "outputs": [
        {
          "output_type": "execute_result",
          "data": {
            "text/plain": [
              "('adaadab', 9)"
            ]
          },
          "metadata": {
            "tags": []
          },
          "execution_count": 24
        }
      ]
    },
    {
      "cell_type": "code",
      "metadata": {
        "scrolled": true,
        "id": "-E26OHEayxyt",
        "outputId": "cb09010e-999f-474d-d121-994584634271"
      },
      "source": [
        "decode(\"abc2[A3[B5[ot]Z]XA]xxx\")"
      ],
      "execution_count": null,
      "outputs": [
        {
          "output_type": "execute_result",
          "data": {
            "text/plain": [
              "('abcABotototototZBotototototZBotototototZXAABotototototZBotototototZBotototototZXAxxx',\n",
              " 21)"
            ]
          },
          "metadata": {
            "tags": []
          },
          "execution_count": 25
        }
      ]
    },
    {
      "cell_type": "markdown",
      "metadata": {
        "id": "quX8SjNAyxyz"
      },
      "source": [
        "Decode using simple string manipulation.  Then eval the final string.\n",
        "\n",
        "\n",
        "RULE 1: \n",
        "\n",
        " ] => \") +\"\n",
        "\n",
        "RULE 2: \n",
        "\n",
        "n[ => \"+ n *(, \"\n",
        "\n",
        "Examples:\n",
        "\n",
        "\"2[ax]b\"                 => \"\"+2*( \"ax\") +\"b\"\n",
        "\n",
        "\"abc2[A3[B5[ot]Z]XA]xxx\" => \"abc\"+2*( \"A\"+3*( \"B\"+5*( \"ot\") +\"Z\") +\"XA\") +\"xxx\"\n"
      ]
    },
    {
      "cell_type": "code",
      "metadata": {
        "id": "O3lFQNYyyxy0"
      },
      "source": [
        "import re\n",
        "\n",
        "def decodeUsingStrManipulation(data) :\n",
        "    ss = re.split(r'(\\d+\\[|\\])', data)   # split data to be able to work on the pieces\n",
        "    newS = []\n",
        "    for s in ss :\n",
        "        if re.match(r'(\\d+\\[|\\])',s) :  #s is either ']'  or \"n[\"  \n",
        "            s=re.sub(']', ') +', s)   # ] to \") +\"\n",
        "            s=re.sub(r'(\\d+)\\[', r\"+\\1*( \" ,s)   # expand n[   to \"+ n * (\"\n",
        "        else :\n",
        "            s='\\\"'+s+'\\\"'              # string\n",
        "        newS.append(s)\n",
        "                  \n",
        "    cmd = ''.join(newS)\n",
        "    return eval(cmd)"
      ],
      "execution_count": null,
      "outputs": []
    },
    {
      "cell_type": "code",
      "metadata": {
        "id": "PhvULnahyxy7",
        "outputId": "624990d2-7cc0-42f0-c231-576c721c27ee"
      },
      "source": [
        "decodeUsingStrManipulation(\"2[ax]b\")"
      ],
      "execution_count": null,
      "outputs": [
        {
          "output_type": "execute_result",
          "data": {
            "text/plain": [
              "'axaxb'"
            ]
          },
          "metadata": {
            "tags": []
          },
          "execution_count": 22
        }
      ]
    },
    {
      "cell_type": "code",
      "metadata": {
        "id": "virOhut3yxzB",
        "outputId": "1b9b466e-5010-44bd-ae08-f5622c3657ca"
      },
      "source": [
        "decodeUsingStrManipulation(\"2[ab10[d]ad]b\")"
      ],
      "execution_count": null,
      "outputs": [
        {
          "output_type": "execute_result",
          "data": {
            "text/plain": [
              "'abddddddddddadabddddddddddadb'"
            ]
          },
          "metadata": {
            "tags": []
          },
          "execution_count": 19
        }
      ]
    },
    {
      "cell_type": "code",
      "metadata": {
        "id": "YuSn7oPFyxzG",
        "outputId": "223e0df1-3b4a-4ebf-a34b-a28df4b112a8"
      },
      "source": [
        "decodeUsingStrManipulation(\"abc2[A3[B5[ot]Z]XA]xxx\")"
      ],
      "execution_count": null,
      "outputs": [
        {
          "output_type": "execute_result",
          "data": {
            "text/plain": [
              "'abcABotototototZBotototototZBotototototZXAABotototototZBotototototZBotototototZXAxxx'"
            ]
          },
          "metadata": {
            "tags": []
          },
          "execution_count": 21
        }
      ]
    },
    {
      "cell_type": "code",
      "metadata": {
        "id": "f-0nNApZyxzL"
      },
      "source": [
        ""
      ],
      "execution_count": null,
      "outputs": []
    }
  ]
}