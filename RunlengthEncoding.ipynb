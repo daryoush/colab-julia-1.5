{
 "cells": [
  {
   "cell_type": "code",
   "execution_count": 1,
   "metadata": {},
   "outputs": [],
   "source": [
    "def decode(d, index=0) :\n",
    "    res=''\n",
    "    if index >= len(d) :\n",
    "        return (res, index )\n",
    "    if d[index] ==  '[' :\n",
    "        index = index + 1\n",
    "\n",
    "    for i in range(index, len(d)) :\n",
    "        c=d[i]\n",
    "        if c == ']' :\n",
    "            return (res, i+1)\n",
    "        if c.isdigit() :\n",
    "            content, end = decode(d, i+1)\n",
    "            after, finali  = decode(d, end)\n",
    "            return (''.join([res, *list(content* int(c)),after] ), finali)\n",
    "        res = res + c\n",
    "    return (res, i)"
   ]
  },
  {
   "cell_type": "code",
   "execution_count": 23,
   "metadata": {},
   "outputs": [
    {
     "data": {
      "text/plain": [
       "('axaxb', 5)"
      ]
     },
     "execution_count": 23,
     "metadata": {},
     "output_type": "execute_result"
    }
   ],
   "source": [
    "decode(\"2[ax]b\")"
   ]
  },
  {
   "cell_type": "code",
   "execution_count": 24,
   "metadata": {},
   "outputs": [
    {
     "data": {
      "text/plain": [
       "('adaadab', 9)"
      ]
     },
     "execution_count": 24,
     "metadata": {},
     "output_type": "execute_result"
    }
   ],
   "source": [
    "decode(\"2[a1[d]a]b\")"
   ]
  },
  {
   "cell_type": "code",
   "execution_count": 25,
   "metadata": {
    "scrolled": true
   },
   "outputs": [
    {
     "data": {
      "text/plain": [
       "('abcABotototototZBotototototZBotototototZXAABotototototZBotototototZBotototototZXAxxx',\n",
       " 21)"
      ]
     },
     "execution_count": 25,
     "metadata": {},
     "output_type": "execute_result"
    }
   ],
   "source": [
    "decode(\"abc2[A3[B5[ot]Z]XA]xxx\")"
   ]
  },
  {
   "cell_type": "markdown",
   "metadata": {},
   "source": [
    "Decode using simple string manipulation.  Then eval the final string.\n",
    "\n",
    "\n",
    "RULE 1: \n",
    "\n",
    " ] => \") +\"\n",
    "\n",
    "RULE 2: \n",
    "\n",
    "n[ => \"+ n *(, \"\n",
    "\n",
    "Examples:\n",
    "\n",
    "\"2[ax]b\"                 => \"\"+2*( \"ax\") +\"b\"\n",
    "\n",
    "\"abc2[A3[B5[ot]Z]XA]xxx\" => \"abc\"+2*( \"A\"+3*( \"B\"+5*( \"ot\") +\"Z\") +\"XA\") +\"xxx\"\n"
   ]
  },
  {
   "cell_type": "code",
   "execution_count": 17,
   "metadata": {},
   "outputs": [],
   "source": [
    "import re\n",
    "\n",
    "def decodeUsingStrManipulation(data) :\n",
    "    ss = re.split(r'(\\d+\\[|\\])', data)   # split data to be able to work on the pieces\n",
    "    newS = []\n",
    "    for s in ss :\n",
    "        if re.match(r'(\\d+\\[|\\])',s) :  #s is either ']'  or \"n[\"  \n",
    "            s=re.sub(']', ') +', s)   # ] to \") +\"\n",
    "            s=re.sub(r'(\\d+)\\[', r\"+\\1*( \" ,s)   # expand n[   to \"+ n * (\"\n",
    "        else :\n",
    "            s='\\\"'+s+'\\\"'              # string\n",
    "        newS.append(s)\n",
    "                  \n",
    "    cmd = ''.join(newS)\n",
    "    return eval(cmd)"
   ]
  },
  {
   "cell_type": "code",
   "execution_count": 22,
   "metadata": {},
   "outputs": [
    {
     "data": {
      "text/plain": [
       "'axaxb'"
      ]
     },
     "execution_count": 22,
     "metadata": {},
     "output_type": "execute_result"
    }
   ],
   "source": [
    "decodeUsingStrManipulation(\"2[ax]b\")"
   ]
  },
  {
   "cell_type": "code",
   "execution_count": 19,
   "metadata": {},
   "outputs": [
    {
     "data": {
      "text/plain": [
       "'abddddddddddadabddddddddddadb'"
      ]
     },
     "execution_count": 19,
     "metadata": {},
     "output_type": "execute_result"
    }
   ],
   "source": [
    "decodeUsingStrManipulation(\"2[ab10[d]ad]b\")"
   ]
  },
  {
   "cell_type": "code",
   "execution_count": 21,
   "metadata": {},
   "outputs": [
    {
     "data": {
      "text/plain": [
       "'abcABotototototZBotototototZBotototototZXAABotototototZBotototototZBotototototZXAxxx'"
      ]
     },
     "execution_count": 21,
     "metadata": {},
     "output_type": "execute_result"
    }
   ],
   "source": [
    "decodeUsingStrManipulation(\"abc2[A3[B5[ot]Z]XA]xxx\")"
   ]
  },
  {
   "cell_type": "code",
   "execution_count": null,
   "metadata": {},
   "outputs": [],
   "source": []
  }
 ],
 "metadata": {
  "kernelspec": {
   "display_name": "Python 3",
   "language": "python",
   "name": "python3"
  },
  "language_info": {
   "codemirror_mode": {
    "name": "ipython",
    "version": 3
   },
   "file_extension": ".py",
   "mimetype": "text/x-python",
   "name": "python",
   "nbconvert_exporter": "python",
   "pygments_lexer": "ipython3",
   "version": "3.7.7"
  }
 },
 "nbformat": 4,
 "nbformat_minor": 4
}
